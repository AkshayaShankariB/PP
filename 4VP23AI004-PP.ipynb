{
 "cells": [
  {
   "cell_type": "markdown",
   "id": "50c70c06",
   "metadata": {},
   "source": [
    "#### Expt.No.1"
   ]
  },
  {
   "cell_type": "code",
   "execution_count": 4,
   "id": "a92c0d7a",
   "metadata": {},
   "outputs": [
    {
     "name": "stdout",
     "output_type": "stream",
     "text": [
      "Enter the number of digits:3\n",
      "Enter a 3-digit integer:123\n",
      "1\n",
      "2\n",
      "3\n"
     ]
    }
   ],
   "source": [
    "n=int(input(\"Enter the number of digits:\"))\n",
    "if n>0:\n",
    "    number=int(input(f\"Enter a {n}-digit integer:\"))\n",
    "    if number>=10**(n-1) and number<10**n:\n",
    "        for i in range(n):\n",
    "            digit=number//(10**(n-1))\n",
    "            print(digit)\n",
    "            number%=10**(n-1)\n",
    "            n-=1\n",
    "    else:\n",
    "        print(f\"Please enter a {n}-digit integer.\")\n",
    "else:\n",
    "    print(f\"Please enter a valid number of digits(greater than 0).\")"
   ]
  },
  {
   "cell_type": "markdown",
   "id": "117cc090",
   "metadata": {},
   "source": [
    "#### Expt.No.2"
   ]
  },
  {
   "cell_type": "code",
   "execution_count": 3,
   "id": "a75b1394",
   "metadata": {},
   "outputs": [
    {
     "name": "stdout",
     "output_type": "stream",
     "text": [
      "Enter the first number:5\n",
      "Enter the second number:7\n",
      "Enter the third number:3\n",
      "Enter the fourth number:1\n",
      "The sorted numbers are: 1 3 5 7\n"
     ]
    }
   ],
   "source": [
    "a=int(input(\"Enter the first number:\"))\n",
    "b=int(input(\"Enter the second number:\"))\n",
    "c=int(input(\"Enter the third number:\"))\n",
    "d=int(input(\"Enter the fourth number:\"))\n",
    "if a>b:a,b=b,a\n",
    "if c>d:c,d=d,c\n",
    "if a>c:a,c=c,a\n",
    "if b>d:b,d=d,b\n",
    "if b>c:b,c=c,b\n",
    "print(\"The sorted numbers are:\",a,b,c,d)    "
   ]
  },
  {
   "cell_type": "markdown",
   "id": "ed6ead39",
   "metadata": {},
   "source": [
    "#### Expt.No.3"
   ]
  },
  {
   "cell_type": "code",
   "execution_count": 2,
   "id": "cfde7a7e",
   "metadata": {},
   "outputs": [
    {
     "name": "stdout",
     "output_type": "stream",
     "text": [
      "Enter an n- digit number:121\n",
      "Palindrome\n"
     ]
    }
   ],
   "source": [
    "number=int(input(\"Enter an n- digit number:\"))\n",
    "original_number=number\n",
    "reversed_number=0\n",
    "while number>0:\n",
    "    digit=number%10\n",
    "    reversed_number=reversed_number*10+digit\n",
    "    number//=10\n",
    "if original_number==reversed_number:\n",
    "    print(\"Palindrome\")\n",
    "else:\n",
    "    print(\"not a palindrome\")"
   ]
  },
  {
   "cell_type": "markdown",
   "id": "4635eabf",
   "metadata": {},
   "source": [
    "#### Expt.No.4"
   ]
  },
  {
   "cell_type": "code",
   "execution_count": 4,
   "id": "9724821f",
   "metadata": {},
   "outputs": [
    {
     "name": "stdout",
     "output_type": "stream",
     "text": [
      "Enter an integer for the multiplication table:7\n",
      "Multiplication Table for 7:\n",
      "7x1=7\n",
      "7x2=14\n",
      "7x3=21\n",
      "7x4=28\n",
      "7x5=35\n",
      "7x6=42\n",
      "7x7=49\n",
      "7x8=56\n",
      "7x9=63\n",
      "7x10=70\n"
     ]
    }
   ],
   "source": [
    "n=int(input(\"Enter an integer for the multiplication table:\"))\n",
    "print(f\"Multiplication Table for {n}:\")\n",
    "for i in range(1,11):\n",
    "    result=n*i\n",
    "    print(f\"{n}x{i}={result}\")"
   ]
  },
  {
   "cell_type": "markdown",
   "id": "63869ffc",
   "metadata": {},
   "source": [
    "#### Expt.No.5"
   ]
  },
  {
   "cell_type": "code",
   "execution_count": 8,
   "id": "fc966a2c",
   "metadata": {},
   "outputs": [
    {
     "name": "stdout",
     "output_type": "stream",
     "text": [
      "Enter the number of elements:6\n",
      "Enter number 1:4\n",
      "Enter number 2:8\n",
      "Enter number 3:6\n",
      "Enter number 4:5\n",
      "Enter number 5:3\n",
      "Enter number 6:9\n",
      "Mean:5.833333333333333\n",
      "Median:5.5\n",
      "Mode:No mode\n",
      "Sample variance:5.366666666666667\n",
      "Population variance:4.472222222222222\n",
      "Sample standard deviation:2.316606713852541\n",
      "Population standard deviation:2.1147629234082532\n"
     ]
    }
   ],
   "source": [
    "n=int(input(\"Enter the number of elements:\"))\n",
    "numbers=[int(input(f\"Enter number {i+1}:\")) for i in range(n)]\n",
    "mean=sum(numbers)/n\n",
    "numbers.sort()\n",
    "if n%2==0:\n",
    "    median=(numbers[n//2-1]+numbers[n//2])/2\n",
    "else:\n",
    "    median=numbers[n//2]\n",
    "frequency={num:numbers.count(num) for num in numbers}\n",
    "max_count=max(frequency.values())\n",
    "mode=[k for k,v in frequency.items() if v==max_count]\n",
    "if len(mode)==n:\n",
    "    mode=\"No mode\"\n",
    "mean_difference_squared_sum=sum((x-mean)**2 for x in numbers)\n",
    "variance_sample=mean_difference_squared_sum/(n-1) if n>1 else 0\n",
    "variance_population=mean_difference_squared_sum/n\n",
    "std_deviation_sample=variance_sample**0.5\n",
    "std_deviation_population=variance_population**0.5\n",
    "print(f\"Mean:{mean}\")\n",
    "print(f\"Median:{median}\")\n",
    "print(f\"Mode:{mode}\")\n",
    "print(f\"Sample variance:{variance_sample}\")\n",
    "print(f\"Population variance:{variance_population}\")\n",
    "print(f\"Sample standard deviation:{std_deviation_sample}\")\n",
    "print(f\"Population standard deviation:{std_deviation_population}\")"
   ]
  },
  {
   "cell_type": "markdown",
   "id": "45b16d70",
   "metadata": {},
   "source": [
    "#### Expt.No.6"
   ]
  },
  {
   "cell_type": "code",
   "execution_count": 2,
   "id": "d742ef28",
   "metadata": {},
   "outputs": [
    {
     "name": "stdout",
     "output_type": "stream",
     "text": [
      "Enter the integer number:1234\n",
      "The reverse number is :4321\n"
     ]
    }
   ],
   "source": [
    "number=int(input(\"Enter the integer number:\"))\n",
    "revs_number=0\n",
    "while(number>0):\n",
    "    remainder=number%10\n",
    "    revs_number=(revs_number*10)+remainder\n",
    "    number=number//10\n",
    "print(\"The reverse number is :{}\".format(revs_number))"
   ]
  },
  {
   "cell_type": "markdown",
   "id": "10708734",
   "metadata": {},
   "source": [
    "#### Expt.No.7"
   ]
  },
  {
   "cell_type": "code",
   "execution_count": 3,
   "id": "eebd03ca",
   "metadata": {},
   "outputs": [
    {
     "name": "stdout",
     "output_type": "stream",
     "text": [
      "Enter the user input:12345\n",
      "Enter the 1st position which you want to swap:1\n",
      "Enter the 2nd position which you want to swap:3\n",
      "Original number: 12345\n",
      "Interchanged number: 32145\n"
     ]
    }
   ],
   "source": [
    "def interchange_digits(number,pos1,pos2):\n",
    "    number_str=str(number)\n",
    "    number_list=list(number_str)\n",
    "    number_list[pos1-1],number_list[pos2-1]=number_list[pos2-1],number_list[pos1-1]\n",
    "    interchanged_number=int(''.join(number_list))\n",
    "    return interchanged_number\n",
    "number=int(input(\"Enter the user input:\"))\n",
    "pos1=int(input(\"Enter the 1st position which you want to swap:\"))\n",
    "pos2=int(input(\"Enter the 2nd position which you want to swap:\"))\n",
    "interchanged_number=interchange_digits(number,pos1,pos2)\n",
    "print(\"Original number:\",number)\n",
    "print(\"Interchanged number:\",interchanged_number)"
   ]
  },
  {
   "cell_type": "markdown",
   "id": "e0afb6fa",
   "metadata": {},
   "source": [
    "#### Expt.No.8"
   ]
  },
  {
   "cell_type": "code",
   "execution_count": 3,
   "id": "0a777134",
   "metadata": {},
   "outputs": [
    {
     "name": "stdout",
     "output_type": "stream",
     "text": [
      "['Hello', 'Good', 'How', 'Simple']\n"
     ]
    }
   ],
   "source": [
    "def capitalize_strings(string_list):\n",
    "    return[s.capitalize() for s in string_list]\n",
    "input_strings=['hello','good','how','simple']\n",
    "capitalized_strings=capitalize_strings(input_strings)\n",
    "print(capitalized_strings)"
   ]
  },
  {
   "cell_type": "markdown",
   "id": "e5d76651",
   "metadata": {},
   "source": [
    "#### Expt.No.9"
   ]
  },
  {
   "cell_type": "code",
   "execution_count": 13,
   "id": "b12925e7",
   "metadata": {},
   "outputs": [
    {
     "name": "stdout",
     "output_type": "stream",
     "text": [
      "Enter a sentence:hello everyone\n",
      "No duplicate words found.\n"
     ]
    }
   ],
   "source": [
    "def count_duplicate_words(sentence):\n",
    "    words=sentence.split()\n",
    "    word_count={}\n",
    "    for word in words:\n",
    "        word=word.lower()\n",
    "        if word in word_count:\n",
    "            word_count[word]+=1\n",
    "        else:\n",
    "            word_count[word]=1\n",
    "    duplicates={word:count for word,count in word_count.items() if count>1}\n",
    "    if duplicates:\n",
    "        print(\"Duplicate words and their counts:\")\n",
    "        for word,count in duplicates.items():\n",
    "            print(f\"{word}:{count}\")\n",
    "    else:\n",
    "         print(\"No duplicate words found.\")\n",
    "sentence=input(\"Enter a sentence:\")\n",
    "count_duplicate_words(sentence)"
   ]
  },
  {
   "cell_type": "code",
   "execution_count": null,
   "id": "18040a58",
   "metadata": {},
   "outputs": [],
   "source": []
  }
 ],
 "metadata": {
  "kernelspec": {
   "display_name": "Python 3 (ipykernel)",
   "language": "python",
   "name": "python3"
  },
  "language_info": {
   "codemirror_mode": {
    "name": "ipython",
    "version": 3
   },
   "file_extension": ".py",
   "mimetype": "text/x-python",
   "name": "python",
   "nbconvert_exporter": "python",
   "pygments_lexer": "ipython3",
   "version": "3.10.9"
  }
 },
 "nbformat": 4,
 "nbformat_minor": 5
}
